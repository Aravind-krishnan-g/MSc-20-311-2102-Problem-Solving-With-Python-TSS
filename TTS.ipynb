{
 "cells": [
  {
   "cell_type": "markdown",
   "metadata": {},
   "source": [
    "# TEXT TO SPEECH (T.T.S)\n",
    "<br>Convert Text to Speech. Take words as input on digital devices and converts them into audio or speech with a button click/finger touch."
   ]
  },
  {
   "cell_type": "code",
   "execution_count": null,
   "metadata": {},
   "outputs": [],
   "source": [
    "# pip install gTTS pyttsx3 "
   ]
  },
  {
   "cell_type": "markdown",
   "metadata": {},
   "source": [
    "## IMPORTING LIBRARIES"
   ]
  },
  {
   "cell_type": "markdown",
   "metadata": {},
   "source": [
    "Documentation of these libraries: [gtts](https://gtts.readthedocs.io/en/latest/) and [streamlit](https://docs.streamlit.io/en/stable/index.html)"
   ]
  },
  {
   "cell_type": "code",
   "execution_count": 1,
   "metadata": {},
   "outputs": [],
   "source": [
    "from gtts import gTTS\n",
    "import streamlit as st"
   ]
  },
  {
   "cell_type": "markdown",
   "metadata": {},
   "source": [
    "## MAIN CODE"
   ]
  },
  {
   "cell_type": "code",
   "execution_count": 2,
   "metadata": {},
   "outputs": [],
   "source": [
    "class tts:\n",
    "    \n",
    "    # function containing web app framework\n",
    "    def display(self):\n",
    "        \n",
    "        st.title(\"Text To Speech (T.T.S) Web Application\") # setting title\n",
    "        exp= st.beta_expander(\"About\") # 'About' section contains details about the project\n",
    "        exp.write(\"This web application was developed using google's [T.T.S engine](https://gtts.readthedocs.io/en/latest/) and [streamlit](https://docs.streamlit.io/en/stable/index.html) web application framework. The app uses T.T.S engine to convert text data to audio file and read the file from the system for playing it using streamlit widgets.\")\n",
    "        exp.write(\" This project was done as a part of Msc-Problem solving with python course.\") \n",
    "        exp.write(\"You can check out the work at [github](https://github.com/Aravind-krishnan-g/MSc-20-311-2102-python-project-TTS)\")\n",
    "        \n",
    "        txt=st.text_area(\"Enter the text to be converted into speech\") # entering text to convert \n",
    "        if(txt): # checking whether text was entered\n",
    "            if(st.button(\"Convert to speech\")): # condition for button press\n",
    "                try:\n",
    "                    t1 =gTTS(txt)   \n",
    "                    t1.save(\"file.mp3\") # saving audio file\n",
    "                    audio_file = open('file.mp3', 'rb') \n",
    "                    audio_bytes = audio_file.read() # reading the audio\n",
    "                    st.success('Done!') # showing message\n",
    "                    st.audio(audio_bytes, format='audio/mp3') # widget to play audio\n",
    "                except:\n",
    "                    st.error('Error occured. Please try a different text to convert!') # display error if necessary\n"
   ]
  },
  {
   "cell_type": "markdown",
   "metadata": {},
   "source": [
    "## DRIVER CODE"
   ]
  },
  {
   "cell_type": "code",
   "execution_count": 3,
   "metadata": {},
   "outputs": [],
   "source": [
    "class_object = tts() # creating object of class\n",
    "class_object.display() # running web app"
   ]
  }
 ],
 "metadata": {
  "kernelspec": {
   "display_name": "Python 3",
   "language": "python",
   "name": "python3"
  },
  "language_info": {
   "codemirror_mode": {
    "name": "ipython",
    "version": 3
   },
   "file_extension": ".py",
   "mimetype": "text/x-python",
   "name": "python",
   "nbconvert_exporter": "python",
   "pygments_lexer": "ipython3",
   "version": "3.8.3"
  }
 },
 "nbformat": 4,
 "nbformat_minor": 4
}
